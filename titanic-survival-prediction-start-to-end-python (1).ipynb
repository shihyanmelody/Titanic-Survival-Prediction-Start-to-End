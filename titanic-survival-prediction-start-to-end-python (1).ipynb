{
 "cells": [
  {
   "cell_type": "markdown",
   "metadata": {
    "_uuid": "863f0180b4e5f259a258ba0900b91f8382269c4e"
   },
   "source": [
    "#Titanic Survival Prediction\n",
    "**Introduction**\n",
    "\n",
    "RMS Titanic was a British passenger liner that sank in the North Atlantic Ocean on 15th April, 1912. In this accident, more than 1500 out of the estimated total 2224 passengers and crew died, making it one of the most severe peacetime maritime disasters in modern history. This story was also filmed by director Steven Spielberg in to the movie Titanic, which was considered as one of the best movie in the 20th centery. As one of the major reasons of a such loss of life was the lack of the lifeboats, the survival chance was not determined randomly, but mostly the opportunity to acquire a spot on the lifeboats, which is influenced by several parameters. In this study, we estimate how do parameters such as sex, age, social class influence the survival chance.\n",
    "\n",
    "**Table of Contents:**\n",
    "\n",
    "1. Import libraries\n",
    "2. Import data\n",
    "3. Data cleaning, feature engineeirng, data visualization\n",
    "4. Establishing the model\n",
    "5. Model Implementation\n",
    "   * Logistic regression\n",
    "   * linear supporter vector classifier\n",
    "   * PerceptronNaive Bayes\n",
    "   * Support vector classifier\n",
    "   * K-nearest neighbors\n",
    "   * Decision tree\n",
    "   * Random forest\n",
    "   * Gradient boost classifier\n",
    "6. Model ensembling\n",
    "7. Prediction and submit the data\n",
    "\n",
    "**1. Import libraries**"
   ]
  },
  {
   "cell_type": "code",
   "execution_count": 93,
   "metadata": {
    "_cell_guid": "79c7e3d0-c299-4dcb-8224-4455121ee9b0",
    "_kg_hide-input": false,
    "_uuid": "d629ff2d2480ee46fbb7e2d37f6b5fab8052498a"
   },
   "outputs": [],
   "source": [
    "import sys #access to sysem parameters\n",
    "import pandas as pd #collection of functions for data processing and alaysis \n",
    "pd.set_option('display.max_columns',None)\n",
    "import numpy as np #foundation package for scientific computing\n",
    "np.set_printoptions(threshold=np.inf)\n",
    "import sklearn #collection of machine learning algorithms\n",
    "import matplotlib.pyplot as plt #collection of functions for visualization\n",
    "import scipy as sp #collection of functions for scientific computing and advance mathematics\n",
    "\n",
    "#import IPython\n",
    "#from Iphython import display # pretty printing of dataframes in Jupyter notebook\n",
    "#misc libraries\n",
    "import random\n",
    "import time\n",
    "#ignore warnings\n",
    "import warnings\n",
    "warnings.filterwarnings('ignore')\n",
    "\n",
    "###load data modelling libraries\n",
    "#Common model algorithms\n",
    "from sklearn import svm, tree, linear_model, neighbors, naive_bayes, ensemble, discriminant_analysis, gaussian_process\n",
    "#from xgboost import XGBClassifier\n",
    "#Common model helpers\n",
    "from sklearn.preprocessing import OneHotEncoder, LabelEncoder\n",
    "from sklearn import feature_selection\n",
    "from sklearn import model_selection\n",
    "from sklearn import metrics\n",
    "\n",
    "###Visualization\n",
    "import matplotlib as mpl\n",
    "#import matplotlib.pylot as plt\n",
    "import matplotlib.pylab as pylab\n",
    "import seaborn as sns\n",
    "from pandas.tools.plotting import scatter_matrix\n",
    "\n",
    "#Configure visualization defaults\n",
    "#%matplotlib inline\n",
    "mpl.style.use('ggplot')\n",
    "sns.set_style('white')\n",
    "pylab.rcParams['figure.figsize']=12,8"
   ]
  },
  {
   "cell_type": "markdown",
   "metadata": {
    "_uuid": "517ab000958ce7ad4fca8f6bbdd01eb94e731ff9"
   },
   "source": [
    "**2. Import data**\n",
    "\n",
    "Here, we can see that the data contains features including:\n",
    "\n",
    "* PassingerID: which is used to index the data and do not have obvious relationship with other features, data is complete\n",
    "* Survived: the classification in this project, data is complete for training data\n",
    "* Pclass: ticket class, which is largely determined by the social class, data is complete\n",
    "* Sex and Age: which can potentially influence the survival rate as women and kids may have higher priority to get help in ethics. Sex feature is complete while the age feature lacks 177 values in the training data and 86 in the test data.\n",
    "* Sibsp and Parch: # of siblins/sponses and parents/children aboard the Titanic, influence to the survival unknown, data is complete\n",
    "* Ticket: relationship unkown, data is complete\n",
    "* Fare: fare should be determined by the pclass, cabin, and embarked, data is complete in training data while have 1 missing value in the test data\n",
    "* Cabin: may provide insight together with pclass, fare, embarked, however, this features have 687 missing values in the training data, so we will not use it directly in the model\n",
    "* Embarked: have 2 missing values in the training data, will be filled in later"
   ]
  },
  {
   "cell_type": "code",
   "execution_count": 94,
   "metadata": {
    "_uuid": "8b8b468896a198f4e3710780a1d38c5faf4698d2"
   },
   "outputs": [
    {
     "data": {
      "text/html": [
       "<div>\n",
       "<style scoped>\n",
       "    .dataframe tbody tr th:only-of-type {\n",
       "        vertical-align: middle;\n",
       "    }\n",
       "\n",
       "    .dataframe tbody tr th {\n",
       "        vertical-align: top;\n",
       "    }\n",
       "\n",
       "    .dataframe thead th {\n",
       "        text-align: right;\n",
       "    }\n",
       "</style>\n",
       "<table border=\"1\" class=\"dataframe\">\n",
       "  <thead>\n",
       "    <tr style=\"text-align: right;\">\n",
       "      <th></th>\n",
       "      <th>PassengerId</th>\n",
       "      <th>Survived</th>\n",
       "      <th>Pclass</th>\n",
       "      <th>Age</th>\n",
       "      <th>SibSp</th>\n",
       "      <th>Parch</th>\n",
       "      <th>Fare</th>\n",
       "    </tr>\n",
       "  </thead>\n",
       "  <tbody>\n",
       "    <tr>\n",
       "      <th>count</th>\n",
       "      <td>891.000000</td>\n",
       "      <td>891.000000</td>\n",
       "      <td>891.000000</td>\n",
       "      <td>714.000000</td>\n",
       "      <td>891.000000</td>\n",
       "      <td>891.000000</td>\n",
       "      <td>891.000000</td>\n",
       "    </tr>\n",
       "    <tr>\n",
       "      <th>mean</th>\n",
       "      <td>446.000000</td>\n",
       "      <td>0.383838</td>\n",
       "      <td>2.308642</td>\n",
       "      <td>29.699118</td>\n",
       "      <td>0.523008</td>\n",
       "      <td>0.381594</td>\n",
       "      <td>32.204208</td>\n",
       "    </tr>\n",
       "    <tr>\n",
       "      <th>std</th>\n",
       "      <td>257.353842</td>\n",
       "      <td>0.486592</td>\n",
       "      <td>0.836071</td>\n",
       "      <td>14.526497</td>\n",
       "      <td>1.102743</td>\n",
       "      <td>0.806057</td>\n",
       "      <td>49.693429</td>\n",
       "    </tr>\n",
       "    <tr>\n",
       "      <th>min</th>\n",
       "      <td>1.000000</td>\n",
       "      <td>0.000000</td>\n",
       "      <td>1.000000</td>\n",
       "      <td>0.420000</td>\n",
       "      <td>0.000000</td>\n",
       "      <td>0.000000</td>\n",
       "      <td>0.000000</td>\n",
       "    </tr>\n",
       "    <tr>\n",
       "      <th>25%</th>\n",
       "      <td>223.500000</td>\n",
       "      <td>0.000000</td>\n",
       "      <td>2.000000</td>\n",
       "      <td>20.125000</td>\n",
       "      <td>0.000000</td>\n",
       "      <td>0.000000</td>\n",
       "      <td>7.910400</td>\n",
       "    </tr>\n",
       "    <tr>\n",
       "      <th>50%</th>\n",
       "      <td>446.000000</td>\n",
       "      <td>0.000000</td>\n",
       "      <td>3.000000</td>\n",
       "      <td>28.000000</td>\n",
       "      <td>0.000000</td>\n",
       "      <td>0.000000</td>\n",
       "      <td>14.454200</td>\n",
       "    </tr>\n",
       "    <tr>\n",
       "      <th>75%</th>\n",
       "      <td>668.500000</td>\n",
       "      <td>1.000000</td>\n",
       "      <td>3.000000</td>\n",
       "      <td>38.000000</td>\n",
       "      <td>1.000000</td>\n",
       "      <td>0.000000</td>\n",
       "      <td>31.000000</td>\n",
       "    </tr>\n",
       "    <tr>\n",
       "      <th>max</th>\n",
       "      <td>891.000000</td>\n",
       "      <td>1.000000</td>\n",
       "      <td>3.000000</td>\n",
       "      <td>80.000000</td>\n",
       "      <td>8.000000</td>\n",
       "      <td>6.000000</td>\n",
       "      <td>512.329200</td>\n",
       "    </tr>\n",
       "  </tbody>\n",
       "</table>\n",
       "</div>"
      ],
      "text/plain": [
       "       PassengerId    Survived      Pclass         Age       SibSp  \\\n",
       "count   891.000000  891.000000  891.000000  714.000000  891.000000   \n",
       "mean    446.000000    0.383838    2.308642   29.699118    0.523008   \n",
       "std     257.353842    0.486592    0.836071   14.526497    1.102743   \n",
       "min       1.000000    0.000000    1.000000    0.420000    0.000000   \n",
       "25%     223.500000    0.000000    2.000000   20.125000    0.000000   \n",
       "50%     446.000000    0.000000    3.000000   28.000000    0.000000   \n",
       "75%     668.500000    1.000000    3.000000   38.000000    1.000000   \n",
       "max     891.000000    1.000000    3.000000   80.000000    8.000000   \n",
       "\n",
       "            Parch        Fare  \n",
       "count  891.000000  891.000000  \n",
       "mean     0.381594   32.204208  \n",
       "std      0.806057   49.693429  \n",
       "min      0.000000    0.000000  \n",
       "25%      0.000000    7.910400  \n",
       "50%      0.000000   14.454200  \n",
       "75%      0.000000   31.000000  \n",
       "max      6.000000  512.329200  "
      ]
     },
     "execution_count": 94,
     "metadata": {},
     "output_type": "execute_result"
    }
   ],
   "source": [
    "data_raw = pd.read_csv('./all_data/train.csv')\n",
    "#891 passengers in the training set\n",
    "data_val = pd.read_csv('./all_data/test.csv')\n",
    "#418 passengers in the test set\n",
    "\n",
    "#print (train.info())\n",
    "#create a copy for the train data\n",
    "#data1 = data_raw.copy(deep = True)\n",
    "combine = [data_raw, data_val]\n",
    "\n",
    "data_raw.describe()"
   ]
  },
  {
   "cell_type": "code",
   "execution_count": 95,
   "metadata": {
    "_uuid": "3fa1aa155454c869b59237dc33c0d170c5d2dc68"
   },
   "outputs": [
    {
     "name": "stdout",
     "output_type": "stream",
     "text": [
      "Train columns with null values:\n",
      " PassengerId      0\n",
      "Survived         0\n",
      "Pclass           0\n",
      "Name             0\n",
      "Sex              0\n",
      "Age            177\n",
      "SibSp            0\n",
      "Parch            0\n",
      "Ticket           0\n",
      "Fare             0\n",
      "Cabin          687\n",
      "Embarked         2\n",
      "dtype: int64\n",
      "----------\n",
      "Test/Validation columns with null values:\n",
      " PassengerId      0\n",
      "Pclass           0\n",
      "Name             0\n",
      "Sex              0\n",
      "Age             86\n",
      "SibSp            0\n",
      "Parch            0\n",
      "Ticket           0\n",
      "Fare             1\n",
      "Cabin          327\n",
      "Embarked         0\n",
      "dtype: int64\n",
      "----------\n"
     ]
    }
   ],
   "source": [
    "# Check for the missing values\n",
    "print('Train columns with null values:\\n', data_raw.isnull().sum())\n",
    "print(\"-\"*10)\n",
    "\n",
    "print('Test/Validation columns with null values:\\n', data_val.isnull().sum())\n",
    "print(\"-\"*10)"
   ]
  },
  {
   "cell_type": "markdown",
   "metadata": {
    "_uuid": "b517d81824b6d9c9ffb7e7687113058c47695c77"
   },
   "source": [
    "**3. Data cleaning, feature engineering, data visualization**\n",
    "\n",
    "In this section we are going to do some exploratory data analysis with descriptive and graphical methods. The features of interest fall into the following categories:\n",
    "\n",
    "1. Pclass, Fare, Embarked, Cabin, Ticket: which can be used to fill in missing embarked and fare values\n",
    "2. Sex, Name (with Title), Age, SibSp, Parch: which can be used to fill in missing age values\n",
    "\n",
    "**Category 1: Pclass, Fare, Embarked, Cabin, Ticket**\n",
    "\n",
    "Missing values: 2 Embarked values, 1 Fare value, 1014 Cabin values\n"
   ]
  },
  {
   "cell_type": "code",
   "execution_count": 96,
   "metadata": {
    "_uuid": "1334b705db7592bee864821362139d1350b26f46"
   },
   "outputs": [
    {
     "data": {
      "text/plain": [
       "<matplotlib.axes._subplots.AxesSubplot at 0x18264f75a58>"
      ]
     },
     "execution_count": 96,
     "metadata": {},
     "output_type": "execute_result"
    },
    {
     "data": {
      "image/png": "[encoded data removed]",
      "text/plain": [
       "<Figure size 1080x504 with 2 Axes>"
      ]
     },
     "metadata": {},
     "output_type": "display_data"
    }
   ],
   "source": [
    "###Visualize embarkment, Pclass, fare\n",
    "plt.figure(figsize=[15,7])\n",
    "\n",
    "plt.subplot(121)\n",
    "sns.boxplot(x = 'Embarked', y = 'Fare', data = data_raw)\n",
    "#Passengers embarked at C tend to pay higher fare\n",
    "plt.subplot(122)\n",
    "sns.boxplot(x = 'Pclass', y = 'Fare', data = data_raw)\n",
    "#Passengers from higher class tend to pay higher fare"
   ]
  },
  {
   "cell_type": "markdown",
   "metadata": {
    "_uuid": "6c520ba1980045bacb1d408775cc4c9b3087d4a1"
   },
   "source": [
    "We noticed that several cabin features are missing, we assume that one important reason for the value missing is that they did not survived so there is no record. To prove our hypothesis, we establish a new feature to indicate if the cabin feature is missing and to study their relationship with the survival rate."
   ]
  },
  {
   "cell_type": "code",
   "execution_count": 97,
   "metadata": {
    "_uuid": "b75f029728fc331eef5b4395258d40bf6278667e"
   },
   "outputs": [
    {
     "data": {
      "image/png": "[encoded data removed]",
      "text/plain": [
       "<Figure size 864x576 with 1 Axes>"
      ]
     },
     "metadata": {},
     "output_type": "display_data"
    },
    {
     "data": {
      "text/plain": [
       "<Figure size 504x504 with 0 Axes>"
      ]
     },
     "metadata": {},
     "output_type": "display_data"
    }
   ],
   "source": [
    "for dataset in combine:\n",
    "    dataset['Cabin_null'] =data_raw['Cabin'].isnull()*1\n",
    "age_survive = sns.barplot(x='Cabin_null', y='Survived', data=data_raw)\n",
    "age_survive = plt.xlabel('Cabin is Missing')\n",
    "age_survive = plt.ylabel('Survived')\n",
    "plt.figure(figsize=[7,7])\n",
    "plt.show()"
   ]
  },
  {
   "cell_type": "markdown",
   "metadata": {
    "_uuid": "ecce4c8a98856b645bd6a40e90a323feb58fbbb2"
   },
   "source": [
    "The 2 missing Embarked values are filled with the most frequent value for the Embarked feature. \n",
    "\n",
    "Since Fare feature is very related to the pclass feature, the 1 missing Fare value is filled in with the mean Fare value for the pclass the passenger belongs to."
   ]
  },
  {
   "cell_type": "code",
   "execution_count": 98,
   "metadata": {
    "_uuid": "ad2b77a96efa5fd49c65aa0c112e85551230766b"
   },
   "outputs": [],
   "source": [
    "###Complete the missing values\n",
    "# The missing Embarked data is filed in with the most frequent value\n",
    "for dataset in combine:\n",
    "    dataset['Embarked'].fillna(dataset['Embarked'].mode()[0],inplace = True) # The missing embarked data is filled in with mode\n",
    "    #dataset['Fare'].fillna(dataset['Fare'].median(),inplace = True) # The missing fare data is filled in with median \n",
    "    \n",
    "# The missing Fare data is filled in with the mean fare value for the pclass the passenger belongs to \n",
    "for x in range(len(data_val[\"Fare\"])):\n",
    "    if pd.isnull(data_val[\"Fare\"][x]):\n",
    "        pclass = data_val[\"Pclass\"][x] #Pclass = 3\n",
    "        data_val[\"Fare\"][x] = round(data_raw[data_raw[\"Pclass\"] == pclass][\"Fare\"].mean(), 4)"
   ]
  },
  {
   "cell_type": "markdown",
   "metadata": {
    "_uuid": "6954393396239beb9933877679bbc27880a3d106"
   },
   "source": [
    "A new feature FareBin is created.\n",
    "\n",
    "The first letter of the Cabin is extracted and stored as the Cabin feature."
   ]
  },
  {
   "cell_type": "code",
   "execution_count": 99,
   "metadata": {
    "_uuid": "a983768f1ce11dd9907d78855a750fe74581c1d5"
   },
   "outputs": [
    {
     "data": {
      "text/html": [
       "<div>\n",
       "<style scoped>\n",
       "    .dataframe tbody tr th:only-of-type {\n",
       "        vertical-align: middle;\n",
       "    }\n",
       "\n",
       "    .dataframe tbody tr th {\n",
       "        vertical-align: top;\n",
       "    }\n",
       "\n",
       "    .dataframe thead th {\n",
       "        text-align: right;\n",
       "    }\n",
       "</style>\n",
       "<table border=\"1\" class=\"dataframe\">\n",
       "  <thead>\n",
       "    <tr style=\"text-align: right;\">\n",
       "      <th></th>\n",
       "      <th>PassengerId</th>\n",
       "      <th>Survived</th>\n",
       "      <th>Pclass</th>\n",
       "      <th>Name</th>\n",
       "      <th>Sex</th>\n",
       "      <th>Age</th>\n",
       "      <th>SibSp</th>\n",
       "      <th>Parch</th>\n",
       "      <th>Ticket</th>\n",
       "      <th>Fare</th>\n",
       "      <th>Cabin</th>\n",
       "      <th>Embarked</th>\n",
       "      <th>Cabin_null</th>\n",
       "      <th>FareBin</th>\n",
       "    </tr>\n",
       "  </thead>\n",
       "  <tbody>\n",
       "    <tr>\n",
       "      <th>0</th>\n",
       "      <td>1</td>\n",
       "      <td>0</td>\n",
       "      <td>3</td>\n",
       "      <td>Braund, Mr. Owen Harris</td>\n",
       "      <td>male</td>\n",
       "      <td>22.0</td>\n",
       "      <td>1</td>\n",
       "      <td>0</td>\n",
       "      <td>A/5 21171</td>\n",
       "      <td>7.2500</td>\n",
       "      <td>X</td>\n",
       "      <td>S</td>\n",
       "      <td>1</td>\n",
       "      <td>cheap</td>\n",
       "    </tr>\n",
       "    <tr>\n",
       "      <th>1</th>\n",
       "      <td>2</td>\n",
       "      <td>1</td>\n",
       "      <td>1</td>\n",
       "      <td>Cumings, Mrs. John Bradley (Florence Briggs Th...</td>\n",
       "      <td>female</td>\n",
       "      <td>38.0</td>\n",
       "      <td>1</td>\n",
       "      <td>0</td>\n",
       "      <td>PC 17599</td>\n",
       "      <td>71.2833</td>\n",
       "      <td>C</td>\n",
       "      <td>C</td>\n",
       "      <td>0</td>\n",
       "      <td>high</td>\n",
       "    </tr>\n",
       "    <tr>\n",
       "      <th>2</th>\n",
       "      <td>3</td>\n",
       "      <td>1</td>\n",
       "      <td>3</td>\n",
       "      <td>Heikkinen, Miss. Laina</td>\n",
       "      <td>female</td>\n",
       "      <td>26.0</td>\n",
       "      <td>0</td>\n",
       "      <td>0</td>\n",
       "      <td>STON/O2. 3101282</td>\n",
       "      <td>7.9250</td>\n",
       "      <td>X</td>\n",
       "      <td>S</td>\n",
       "      <td>1</td>\n",
       "      <td>medium</td>\n",
       "    </tr>\n",
       "    <tr>\n",
       "      <th>3</th>\n",
       "      <td>4</td>\n",
       "      <td>1</td>\n",
       "      <td>1</td>\n",
       "      <td>Futrelle, Mrs. Jacques Heath (Lily May Peel)</td>\n",
       "      <td>female</td>\n",
       "      <td>35.0</td>\n",
       "      <td>1</td>\n",
       "      <td>0</td>\n",
       "      <td>113803</td>\n",
       "      <td>53.1000</td>\n",
       "      <td>C</td>\n",
       "      <td>S</td>\n",
       "      <td>0</td>\n",
       "      <td>high</td>\n",
       "    </tr>\n",
       "    <tr>\n",
       "      <th>4</th>\n",
       "      <td>5</td>\n",
       "      <td>0</td>\n",
       "      <td>3</td>\n",
       "      <td>Allen, Mr. William Henry</td>\n",
       "      <td>male</td>\n",
       "      <td>35.0</td>\n",
       "      <td>0</td>\n",
       "      <td>0</td>\n",
       "      <td>373450</td>\n",
       "      <td>8.0500</td>\n",
       "      <td>X</td>\n",
       "      <td>S</td>\n",
       "      <td>1</td>\n",
       "      <td>medium</td>\n",
       "    </tr>\n",
       "  </tbody>\n",
       "</table>\n",
       "</div>"
      ],
      "text/plain": [
       "   PassengerId  Survived  Pclass  \\\n",
       "0            1         0       3   \n",
       "1            2         1       1   \n",
       "2            3         1       3   \n",
       "3            4         1       1   \n",
       "4            5         0       3   \n",
       "\n",
       "                                                Name     Sex   Age  SibSp  \\\n",
       "0                            Braund, Mr. Owen Harris    male  22.0      1   \n",
       "1  Cumings, Mrs. John Bradley (Florence Briggs Th...  female  38.0      1   \n",
       "2                             Heikkinen, Miss. Laina  female  26.0      0   \n",
       "3       Futrelle, Mrs. Jacques Heath (Lily May Peel)  female  35.0      1   \n",
       "4                           Allen, Mr. William Henry    male  35.0      0   \n",
       "\n",
       "   Parch            Ticket     Fare Cabin Embarked  Cabin_null FareBin  \n",
       "0      0         A/5 21171   7.2500     X        S           1   cheap  \n",
       "1      0          PC 17599  71.2833     C        C           0    high  \n",
       "2      0  STON/O2. 3101282   7.9250     X        S           1  medium  \n",
       "3      0            113803  53.1000     C        S           0    high  \n",
       "4      0            373450   8.0500     X        S           1  medium  "
      ]
     },
     "execution_count": 99,
     "metadata": {},
     "output_type": "execute_result"
    }
   ],
   "source": [
    "###Feature engineering\n",
    "#Create the FareBin feature\n",
    "#Keep the first letter for Cabin data\n",
    "Fare_Bins=[-1,7.91,14.454,31,10000]\n",
    "Fare_Labels=['cheap','medium','medium high','high']\n",
    "\n",
    "for dataset in combine:\n",
    "    dataset[\"Cabin\"] = pd.Series([i[0] if not pd.isnull(i) else 'X' for i in dataset['Cabin'] ])\n",
    "    dataset['FareBin']=pd.cut(dataset['Fare'], Fare_Bins, labels=Fare_Labels)\n",
    "\n",
    "data_raw.head()"
   ]
  },
  {
   "cell_type": "markdown",
   "metadata": {
    "_uuid": "6e832cef564df701e5e270b025b05b8a173b7e43"
   },
   "source": [
    "The figures showing survival rate ploted as functions of Pclass, Embarked, Cabin, FareBin are shown as below."
   ]
  },
  {
   "cell_type": "code",
   "execution_count": 100,
   "metadata": {
    "_uuid": "f006cc39c5e5f1cf3ad1d8ce37434a6dbb9bdabf"
   },
   "outputs": [
    {
     "data": {
      "text/plain": [
       "<matplotlib.axes._subplots.AxesSubplot at 0x1825efb0cf8>"
      ]
     },
     "execution_count": 100,
     "metadata": {},
     "output_type": "execute_result"
    },
    {
     "data": {
      "image/png": "[encoded data removed]",
      "text/plain": [
       "<Figure size 864x720 with 4 Axes>"
      ]
     },
     "metadata": {},
     "output_type": "display_data"
    }
   ],
   "source": [
    "###Data visualization\n",
    "\n",
    "plt.figure(figsize=[12,10])\n",
    "\n",
    "plt.subplot(221)\n",
    "sns.barplot(x = 'Pclass', y = 'Survived', data = data_raw)\n",
    "#People with higher socieconomic class had a higher rate of survival\n",
    "\n",
    "plt.subplot(222)\n",
    "sns.barplot(x = 'Embarked', y = 'Survived', data = data_raw)\n",
    "#People embarked at C are more likely to survive\n",
    "\n",
    "plt.subplot(223)\n",
    "sns.barplot(x='Cabin',y='Survived',data = data_raw)\n",
    "#People with a recorded Cabin number are more likely to survive\n",
    "\n",
    "plt.subplot(224)\n",
    "sns.barplot(x='FareBin',y='Survived',data = data_raw)\n",
    "#People who pay a higher fare are more likely to survive"
   ]
  },
  {
   "cell_type": "markdown",
   "metadata": {
    "_uuid": "5818ecddee365dd876e616b51c5f34fa56917150"
   },
   "source": [
    "The FareBin feature is converted into numbers."
   ]
  },
  {
   "cell_type": "code",
   "execution_count": 101,
   "metadata": {
    "_uuid": "5b355bf74a5441f0f727451d67025a8d29b1be77"
   },
   "outputs": [
    {
     "data": {
      "text/html": [
       "<div>\n",
       "<style scoped>\n",
       "    .dataframe tbody tr th:only-of-type {\n",
       "        vertical-align: middle;\n",
       "    }\n",
       "\n",
       "    .dataframe tbody tr th {\n",
       "        vertical-align: top;\n",
       "    }\n",
       "\n",
       "    .dataframe thead th {\n",
       "        text-align: right;\n",
       "    }\n",
       "</style>\n",
       "<table border=\"1\" class=\"dataframe\">\n",
       "  <thead>\n",
       "    <tr style=\"text-align: right;\">\n",
       "      <th></th>\n",
       "      <th>PassengerId</th>\n",
       "      <th>Survived</th>\n",
       "      <th>Pclass</th>\n",
       "      <th>Name</th>\n",
       "      <th>Sex</th>\n",
       "      <th>Age</th>\n",
       "      <th>SibSp</th>\n",
       "      <th>Parch</th>\n",
       "      <th>Ticket</th>\n",
       "      <th>Fare</th>\n",
       "      <th>Cabin</th>\n",
       "      <th>Embarked</th>\n",
       "      <th>Cabin_null</th>\n",
       "      <th>FareBin</th>\n",
       "    </tr>\n",
       "  </thead>\n",
       "  <tbody>\n",
       "    <tr>\n",
       "      <th>0</th>\n",
       "      <td>1</td>\n",
       "      <td>0</td>\n",
       "      <td>3</td>\n",
       "      <td>Braund, Mr. Owen Harris</td>\n",
       "      <td>male</td>\n",
       "      <td>22.0</td>\n",
       "      <td>1</td>\n",
       "      <td>0</td>\n",
       "      <td>A/5 21171</td>\n",
       "      <td>7.2500</td>\n",
       "      <td>X</td>\n",
       "      <td>S</td>\n",
       "      <td>1</td>\n",
       "      <td>0</td>\n",
       "    </tr>\n",
       "    <tr>\n",
       "      <th>1</th>\n",
       "      <td>2</td>\n",
       "      <td>1</td>\n",
       "      <td>1</td>\n",
       "      <td>Cumings, Mrs. John Bradley (Florence Briggs Th...</td>\n",
       "      <td>female</td>\n",
       "      <td>38.0</td>\n",
       "      <td>1</td>\n",
       "      <td>0</td>\n",
       "      <td>PC 17599</td>\n",
       "      <td>71.2833</td>\n",
       "      <td>C</td>\n",
       "      <td>C</td>\n",
       "      <td>0</td>\n",
       "      <td>3</td>\n",
       "    </tr>\n",
       "    <tr>\n",
       "      <th>2</th>\n",
       "      <td>3</td>\n",
       "      <td>1</td>\n",
       "      <td>3</td>\n",
       "      <td>Heikkinen, Miss. Laina</td>\n",
       "      <td>female</td>\n",
       "      <td>26.0</td>\n",
       "      <td>0</td>\n",
       "      <td>0</td>\n",
       "      <td>STON/O2. 3101282</td>\n",
       "      <td>7.9250</td>\n",
       "      <td>X</td>\n",
       "      <td>S</td>\n",
       "      <td>1</td>\n",
       "      <td>1</td>\n",
       "    </tr>\n",
       "    <tr>\n",
       "      <th>3</th>\n",
       "      <td>4</td>\n",
       "      <td>1</td>\n",
       "      <td>1</td>\n",
       "      <td>Futrelle, Mrs. Jacques Heath (Lily May Peel)</td>\n",
       "      <td>female</td>\n",
       "      <td>35.0</td>\n",
       "      <td>1</td>\n",
       "      <td>0</td>\n",
       "      <td>113803</td>\n",
       "      <td>53.1000</td>\n",
       "      <td>C</td>\n",
       "      <td>S</td>\n",
       "      <td>0</td>\n",
       "      <td>3</td>\n",
       "    </tr>\n",
       "    <tr>\n",
       "      <th>4</th>\n",
       "      <td>5</td>\n",
       "      <td>0</td>\n",
       "      <td>3</td>\n",
       "      <td>Allen, Mr. William Henry</td>\n",
       "      <td>male</td>\n",
       "      <td>35.0</td>\n",
       "      <td>0</td>\n",
       "      <td>0</td>\n",
       "      <td>373450</td>\n",
       "      <td>8.0500</td>\n",
       "      <td>X</td>\n",
       "      <td>S</td>\n",
       "      <td>1</td>\n",
       "      <td>1</td>\n",
       "    </tr>\n",
       "  </tbody>\n",
       "</table>\n",
       "</div>"
      ],
      "text/plain": [
       "   PassengerId  Survived  Pclass  \\\n",
       "0            1         0       3   \n",
       "1            2         1       1   \n",
       "2            3         1       3   \n",
       "3            4         1       1   \n",
       "4            5         0       3   \n",
       "\n",
       "                                                Name     Sex   Age  SibSp  \\\n",
       "0                            Braund, Mr. Owen Harris    male  22.0      1   \n",
       "1  Cumings, Mrs. John Bradley (Florence Briggs Th...  female  38.0      1   \n",
       "2                             Heikkinen, Miss. Laina  female  26.0      0   \n",
       "3       Futrelle, Mrs. Jacques Heath (Lily May Peel)  female  35.0      1   \n",
       "4                           Allen, Mr. William Henry    male  35.0      0   \n",
       "\n",
       "   Parch            Ticket     Fare Cabin Embarked  Cabin_null  FareBin  \n",
       "0      0         A/5 21171   7.2500     X        S           1        0  \n",
       "1      0          PC 17599  71.2833     C        C           0        3  \n",
       "2      0  STON/O2. 3101282   7.9250     X        S           1        1  \n",
       "3      0            113803  53.1000     C        S           0        3  \n",
       "4      0            373450   8.0500     X        S           1        1  "
      ]
     },
     "execution_count": 101,
     "metadata": {},
     "output_type": "execute_result"
    }
   ],
   "source": [
    "###Convert the features into numbers\n",
    "#cleanup_Embarked = {'S':0,'C':1,'Q':2}\n",
    "cleanup_FareBin ={'cheap':0,'medium':1,'medium high':2,'high':3}\n",
    "for dataset in combine:\n",
    "    #dataset['Embarked']=dataset['Embarked'].map(cleanup_Embarked).astype(int)\n",
    "    dataset['FareBin']=dataset['FareBin'].map(cleanup_FareBin).astype(int)\n",
    "\n",
    "data_raw.head()"
   ]
  },
  {
   "cell_type": "markdown",
   "metadata": {
    "_uuid": "dddbc2fc55e0ad0479b6bad2c65d1086d29340cb"
   },
   "source": [
    "The prefix part of the ticket feature is extracted and stored as the ticket feature."
   ]
  },
  {
   "cell_type": "code",
   "execution_count": 102,
   "metadata": {
    "_uuid": "11ab7faa27beddbb82d6f6b8ec342c04fa5689dc"
   },
   "outputs": [
    {
     "data": {
      "text/plain": [
       "0    X\n",
       "1    X\n",
       "2    X\n",
       "3    X\n",
       "4    X\n",
       "Name: Ticket, dtype: object"
      ]
     },
     "execution_count": 102,
     "metadata": {},
     "output_type": "execute_result"
    }
   ],
   "source": [
    "# For ticket feature we only keep the prefix part\n",
    "for dataset in combine:\n",
    "    Ticket = []\n",
    "    for i in list(dataset.Ticket):\n",
    "        if not i.isdigit() :\n",
    "            Ticket.append(i.replace(\".\",\"\").replace(\"/\",\"\").strip().split(' ')[0]) #Take prefix\n",
    "        else:\n",
    "            Ticket.append(\"X\")\n",
    "    dataset[\"Ticket\"] = Ticket\n",
    "dataset[\"Ticket\"].head()"
   ]
  },
  {
   "cell_type": "markdown",
   "metadata": {
    "_uuid": "ce8bee01d0b3cb54009861f39dc2f68333b51cbf"
   },
   "source": [
    "**Category 2: Sex, Age, SibSp, Parch**\n",
    "\n",
    "Missing values: 177 Age values\n",
    "\n",
    "**Feature: Age**\n",
    "\n",
    "Firstly, let us have a look at the relationship between the age and the survival rate. It is interesting to discovered that babies of age 0-5 have a higher chance to survive, while at the same time, elderly passengers who are order than 65 have the survival rate as low as only ~10%."
   ]
  },
  {
   "cell_type": "code",
   "execution_count": 103,
   "metadata": {
    "_uuid": "6c44eca78c4aed4ed5a2a157647b8132176c059b"
   },
   "outputs": [
    {
     "data": {
      "image/png": "[encoded data removed]",
      "text/plain": [
       "<Figure size 864x576 with 1 Axes>"
      ]
     },
     "metadata": {},
     "output_type": "display_data"
    },
    {
     "data": {
      "text/plain": [
       "<Figure size 504x360 with 0 Axes>"
      ]
     },
     "metadata": {},
     "output_type": "display_data"
    }
   ],
   "source": [
    "age_bins=[0,5,12,18,50,65,120]\n",
    "age_labels=['baby','kid','teenager','adult','aging','elderly']\n",
    "for dataset in combine:\n",
    "    dataset['AgeGroup']=pd.cut(dataset['Age'], age_bins, labels=age_labels)\n",
    "age_survive = sns.barplot(x='AgeGroup', y='Survived', data=data_raw)\n",
    "age_survive = plt.xlabel('Age')\n",
    "age_survive = plt.ylabel('Survived')\n",
    "plt.figure(figsize=[7,5])\n",
    "plt.show()"
   ]
  },
  {
   "cell_type": "markdown",
   "metadata": {
    "_uuid": "a64478713fe07804a37a4757e04736f83a72364c"
   },
   "source": [
    "We noticed that several age features are missing, we assume that one important reason for the value missing is that they did not survived so there is no record. To prove our hypothesis, we establish a new feature to indicate if the age feature is missing and to study their relationship with the survival rate."
   ]
  },
  {
   "cell_type": "code",
   "execution_count": 104,
   "metadata": {
    "_uuid": "8bc594bb9ebfa9e2e4e9f3de23855efae4603cea"
   },
   "outputs": [
    {
     "data": {
      "image/png": "[encoded data removed]",
      "text/plain": [
       "<Figure size 864x576 with 1 Axes>"
      ]
     },
     "metadata": {},
     "output_type": "display_data"
    }
   ],
   "source": [
    "for dataset in combine:\n",
    "    dataset['Age_null'] =data_raw['Age'].isnull()*1\n",
    "age_survive = sns.barplot(x='Age_null', y='Survived', data=data_raw)\n",
    "age_survive = plt.xlabel('Age is Missing')\n",
    "age_survive = plt.ylabel('Survived')\n",
    "plt.show()"
   ]
  },
  {
   "cell_type": "markdown",
   "metadata": {
    "_uuid": "c9e6788521f3a29a341058638e06832dc3f5c475"
   },
   "source": [
    "We noticed that in the name, there is title information. As different titles usually refer to different age ranges, the title information can help us to predict the age features. So we extract this informatino from the name and save it in a new feature named 'title'."
   ]
  },
  {
   "cell_type": "code",
   "execution_count": 105,
   "metadata": {
    "_uuid": "1b83403ef213e517f9f529cb704f70e135757201"
   },
   "outputs": [
    {
     "data": {
      "text/html": [
       "<div>\n",
       "<style scoped>\n",
       "    .dataframe tbody tr th:only-of-type {\n",
       "        vertical-align: middle;\n",
       "    }\n",
       "\n",
       "    .dataframe tbody tr th {\n",
       "        vertical-align: top;\n",
       "    }\n",
       "\n",
       "    .dataframe thead th {\n",
       "        text-align: right;\n",
       "    }\n",
       "</style>\n",
       "<table border=\"1\" class=\"dataframe\">\n",
       "  <thead>\n",
       "    <tr style=\"text-align: right;\">\n",
       "      <th>Sex</th>\n",
       "      <th>female</th>\n",
       "      <th>male</th>\n",
       "    </tr>\n",
       "    <tr>\n",
       "      <th>Title</th>\n",
       "      <th></th>\n",
       "      <th></th>\n",
       "    </tr>\n",
       "  </thead>\n",
       "  <tbody>\n",
       "    <tr>\n",
       "      <th>Capt</th>\n",
       "      <td>0</td>\n",
       "      <td>1</td>\n",
       "    </tr>\n",
       "    <tr>\n",
       "      <th>Col</th>\n",
       "      <td>0</td>\n",
       "      <td>2</td>\n",
       "    </tr>\n",
       "    <tr>\n",
       "      <th>Countess</th>\n",
       "      <td>1</td>\n",
       "      <td>0</td>\n",
       "    </tr>\n",
       "    <tr>\n",
       "      <th>Don</th>\n",
       "      <td>0</td>\n",
       "      <td>1</td>\n",
       "    </tr>\n",
       "    <tr>\n",
       "      <th>Dr</th>\n",
       "      <td>1</td>\n",
       "      <td>6</td>\n",
       "    </tr>\n",
       "    <tr>\n",
       "      <th>Jonkheer</th>\n",
       "      <td>0</td>\n",
       "      <td>1</td>\n",
       "    </tr>\n",
       "    <tr>\n",
       "      <th>Lady</th>\n",
       "      <td>1</td>\n",
       "      <td>0</td>\n",
       "    </tr>\n",
       "    <tr>\n",
       "      <th>Major</th>\n",
       "      <td>0</td>\n",
       "      <td>2</td>\n",
       "    </tr>\n",
       "    <tr>\n",
       "      <th>Master</th>\n",
       "      <td>0</td>\n",
       "      <td>40</td>\n",
       "    </tr>\n",
       "    <tr>\n",
       "      <th>Miss</th>\n",
       "      <td>182</td>\n",
       "      <td>0</td>\n",
       "    </tr>\n",
       "    <tr>\n",
       "      <th>Mlle</th>\n",
       "      <td>2</td>\n",
       "      <td>0</td>\n",
       "    </tr>\n",
       "    <tr>\n",
       "      <th>Mme</th>\n",
       "      <td>1</td>\n",
       "      <td>0</td>\n",
       "    </tr>\n",
       "    <tr>\n",
       "      <th>Mr</th>\n",
       "      <td>0</td>\n",
       "      <td>517</td>\n",
       "    </tr>\n",
       "    <tr>\n",
       "      <th>Mrs</th>\n",
       "      <td>125</td>\n",
       "      <td>0</td>\n",
       "    </tr>\n",
       "    <tr>\n",
       "      <th>Ms</th>\n",
       "      <td>1</td>\n",
       "      <td>0</td>\n",
       "    </tr>\n",
       "    <tr>\n",
       "      <th>Rev</th>\n",
       "      <td>0</td>\n",
       "      <td>6</td>\n",
       "    </tr>\n",
       "    <tr>\n",
       "      <th>Sir</th>\n",
       "      <td>0</td>\n",
       "      <td>1</td>\n",
       "    </tr>\n",
       "  </tbody>\n",
       "</table>\n",
       "</div>"
      ],
      "text/plain": [
       "Sex       female  male\n",
       "Title                 \n",
       "Capt           0     1\n",
       "Col            0     2\n",
       "Countess       1     0\n",
       "Don            0     1\n",
       "Dr             1     6\n",
       "Jonkheer       0     1\n",
       "Lady           1     0\n",
       "Major          0     2\n",
       "Master         0    40\n",
       "Miss         182     0\n",
       "Mlle           2     0\n",
       "Mme            1     0\n",
       "Mr             0   517\n",
       "Mrs          125     0\n",
       "Ms             1     0\n",
       "Rev            0     6\n",
       "Sir            0     1"
      ]
     },
     "execution_count": 105,
     "metadata": {},
     "output_type": "execute_result"
    }
   ],
   "source": [
    "# Complete missing age Values. we noticed that in the name, there is also title information, this can be helpful to predict the age\n",
    "for dataset in combine:\n",
    "    dataset['Title'] = dataset.Name.str.extract('([A-Za-z]+)\\.', expand=False)\n",
    "pd.crosstab(data_raw['Title'], data_raw['Sex'])"
   ]
  },
  {
   "cell_type": "code",
   "execution_count": 106,
   "metadata": {
    "_uuid": "3a03ac9fefc20cde53830c2b5945079861750735"
   },
   "outputs": [
    {
     "data": {
      "text/html": [
       "<div>\n",
       "<style scoped>\n",
       "    .dataframe tbody tr th:only-of-type {\n",
       "        vertical-align: middle;\n",
       "    }\n",
       "\n",
       "    .dataframe tbody tr th {\n",
       "        vertical-align: top;\n",
       "    }\n",
       "\n",
       "    .dataframe thead th {\n",
       "        text-align: right;\n",
       "    }\n",
       "</style>\n",
       "<table border=\"1\" class=\"dataframe\">\n",
       "  <thead>\n",
       "    <tr style=\"text-align: right;\">\n",
       "      <th>Sex</th>\n",
       "      <th>female</th>\n",
       "      <th>male</th>\n",
       "    </tr>\n",
       "    <tr>\n",
       "      <th>Title</th>\n",
       "      <th></th>\n",
       "      <th></th>\n",
       "    </tr>\n",
       "  </thead>\n",
       "  <tbody>\n",
       "    <tr>\n",
       "      <th>Master</th>\n",
       "      <td>0</td>\n",
       "      <td>40</td>\n",
       "    </tr>\n",
       "    <tr>\n",
       "      <th>Miss</th>\n",
       "      <td>185</td>\n",
       "      <td>0</td>\n",
       "    </tr>\n",
       "    <tr>\n",
       "      <th>Mr</th>\n",
       "      <td>0</td>\n",
       "      <td>517</td>\n",
       "    </tr>\n",
       "    <tr>\n",
       "      <th>Mrs</th>\n",
       "      <td>126</td>\n",
       "      <td>0</td>\n",
       "    </tr>\n",
       "    <tr>\n",
       "      <th>Rare</th>\n",
       "      <td>3</td>\n",
       "      <td>20</td>\n",
       "    </tr>\n",
       "  </tbody>\n",
       "</table>\n",
       "</div>"
      ],
      "text/plain": [
       "Sex     female  male\n",
       "Title               \n",
       "Master       0    40\n",
       "Miss       185     0\n",
       "Mr           0   517\n",
       "Mrs        126     0\n",
       "Rare         3    20"
      ]
     },
     "execution_count": 106,
     "metadata": {},
     "output_type": "execute_result"
    }
   ],
   "source": [
    "# Group different title (especially rare titles) into common groups which are more closely related to the age\n",
    "for dataset in combine:\n",
    "    dataset['Title'] = dataset['Title'].replace(['Capt', 'Col', 'Sir', 'Don', 'Dr', 'Major', 'Rev', 'Jonkheer', 'Rev', 'Countess', 'Lady', 'Dona'], 'Rare')\n",
    "#     dataset['Title'] = dataset['Title'].replace(['Countess', 'Lady', 'Dona'], 'Rare_F')\n",
    "    dataset['Title'] = dataset['Title'].replace(['Mlle', 'Ms'], 'Miss')\n",
    "    dataset['Title'] = dataset['Title'].replace('Mme', 'Mrs')\n",
    "    dataset['FamilySize'] = dataset['SibSp']+dataset['Parch'] + 1\n",
    "    dataset['IsAlone'] = 1 #initialize to yes/1 is alone\n",
    "    dataset['IsAlone'].loc[dataset['FamilySize'] > 1] = 0 # now update to no/0 if family size is greater than 1\n",
    "pd.crosstab(data_raw['Title'], data_raw['Sex'])"
   ]
  },
  {
   "cell_type": "markdown",
   "metadata": {
    "_uuid": "a771ab456a1ac707f517ce0c47dd648738303ff5"
   },
   "source": [
    "According to our common sense, the title should be related to the age, e.g. title Miss should be younger than Mrs. To identify if the title is related to the title, we visualize their relationship."
   ]
  },
  {
   "cell_type": "code",
   "execution_count": 107,
   "metadata": {
    "_uuid": "c7e0aac4fcb20968c4579513a12bc9b92c8187ca"
   },
   "outputs": [
    {
     "data": {
      "image/png": "[encoded data removed]",
      "text/plain": [
       "<Figure size 1080x504 with 2 Axes>"
      ]
     },
     "metadata": {},
     "output_type": "display_data"
    }
   ],
   "source": [
    "# According to our common sense, the title should be related to the age, e.g. title Miss should be younger than Mrs. To identify if the title is related to the title, visualize their relationship\n",
    "plt.figure(figsize=[15,7])\n",
    "plt.subplot(121)\n",
    "age_title = sns.boxplot(x=\"Title\", y=\"Age\",hue=\"Survived\", data=data_raw)\n",
    "age_title = plt.xlabel('Title')\n",
    "age_title = plt.ylabel('Age')\n",
    "# We assume the age is also related to the pclass so we plot the corresponding diagram to confirm\n",
    "plt.subplot(122)\n",
    "age_title = sns.boxplot(x=\"Pclass\", y=\"Age\",hue=\"Survived\", data=data_raw)\n",
    "age_title = plt.xlabel('PClass')\n",
    "age_title = plt.ylabel('Age')\n",
    "plt.show()"
   ]
  },
  {
   "cell_type": "markdown",
   "metadata": {
    "_uuid": "c59e3eb42724ede75f681b89a179b2f14f58f31e"
   },
   "source": [
    "According to the above analysis, the age value is related to both the title and the pclass, as we hypothesized initially. It is also interesting to discovered that in all pclass group, survived people are of younger median age than dead ones. So we assign the median of each [title, pclass] group if the age value is missed."
   ]
  },
  {
   "cell_type": "code",
   "execution_count": 108,
   "metadata": {
    "_uuid": "65e37e1b338f010db52bcee25173829789095f6d"
   },
   "outputs": [],
   "source": [
    "# assign the median of each [title, pclass] group if the age value is missed\n",
    "def impute_age(dataset):\n",
    "   for pclass in [1,2,3]:\n",
    "        for title in ['Master','Miss','Mr','Mrs','Rare']:\n",
    "            ds=dataset[dataset['Pclass']==pclass]\n",
    "            ds=ds[ds['Title']==title]\n",
    "            median=ds['Age'].median()\n",
    "            dataset.loc[\n",
    "                (dataset['Age'].isnull())&\n",
    "                (dataset['Pclass']==pclass)&\n",
    "                (dataset['Title']==title),\n",
    "                'Age'\n",
    "            ]=median\n",
    "impute_age(data_raw)\n",
    "impute_age(data_val)"
   ]
  },
  {
   "cell_type": "markdown",
   "metadata": {
    "_uuid": "aae4d219f111d311a37f98b6295b63822069551a"
   },
   "source": [
    "**Feature SibSp and Parch**\n",
    "\n",
    "Both these features represent the number of relatives on the Titanic, so we create a new feature to represent the size of the family for each passengers."
   ]
  },
  {
   "cell_type": "code",
   "execution_count": 109,
   "metadata": {
    "_uuid": "8c8cf55ee65545857bb505d717e7d204d05bea9b"
   },
   "outputs": [
    {
     "data": {
      "image/png": "[encoded data removed]",
      "text/plain": [
       "<Figure size 412.625x360 with 1 Axes>"
      ]
     },
     "metadata": {},
     "output_type": "display_data"
    }
   ],
   "source": [
    "for dataset in combine:\n",
    "    dataset['FamilySize'] = dataset['SibSp']+dataset['Parch'] + 1\n",
    "\n",
    "# to study the influence of the family size to the survival chance and the distributino of different family size, \n",
    "# we use the bubble plot to visualize it. The size of each bubble is count of each family size.\n",
    "fs_count = data_raw['FamilySize'].value_counts()\n",
    "fs_prob_survived = data_raw['FamilySize'][data_raw['Survived'] == 1].value_counts()\n",
    "fs_prob = fs_prob_survived/fs_count\n",
    "familysize = sns.relplot(fs_prob.index, fs_prob.values, size = fs_count.values, sizes = (100,1000), data=data_raw)\n",
    "plt.xlabel('FamilySize')\n",
    "plt.ylabel('Prob of Survived')\n",
    "plt.show()"
   ]
  },
  {
   "cell_type": "markdown",
   "metadata": {
    "_uuid": "655480705d9284631f03eb454d4da8db10c6f866"
   },
   "source": [
    "Here we can learn that if you have a family size of 2-4, you will in geneneral have a higher chance to survive. However, it is noted that as passengers with family size 4 or higher are limisted, there might be bias here. \n"
   ]
  },
  {
   "cell_type": "markdown",
   "metadata": {
    "_uuid": "db24f6fad37c634eb324c1557c6666f77da26246"
   },
   "source": [
    "**Feature Sex**\n",
    "\n",
    "As can be seen below, over 70% of female passengers are survived while only ~20% male are survived. Thank you gentlemen!"
   ]
  },
  {
   "cell_type": "code",
   "execution_count": 110,
   "metadata": {
    "_uuid": "25e82f22c9667bcf67ed7572dc61c588f2ec1439",
    "scrolled": true
   },
   "outputs": [
    {
     "data": {
      "image/png": "[encoded data removed]",
      "text/plain": [
       "<Figure size 864x576 with 1 Axes>"
      ]
     },
     "metadata": {},
     "output_type": "display_data"
    }
   ],
   "source": [
    "sns.set_style(\"white\")\n",
    "sex_sur = sns.barplot(x=\"Sex\", y=\"Survived\", data=data_raw)\n",
    "sex_sur = plt.xlabel('Sex')\n",
    "sex_sur = plt.ylabel('Survived')\n",
    "plt.show()"
   ]
  },
  {
   "cell_type": "code",
   "execution_count": 111,
   "metadata": {
    "_uuid": "5491c9bacdfcf4f30f6a15405d20bd602fcb5a5d"
   },
   "outputs": [
    {
     "data": {
      "text/html": [
       "<div>\n",
       "<style scoped>\n",
       "    .dataframe tbody tr th:only-of-type {\n",
       "        vertical-align: middle;\n",
       "    }\n",
       "\n",
       "    .dataframe tbody tr th {\n",
       "        vertical-align: top;\n",
       "    }\n",
       "\n",
       "    .dataframe thead th {\n",
       "        text-align: right;\n",
       "    }\n",
       "</style>\n",
       "<table border=\"1\" class=\"dataframe\">\n",
       "  <thead>\n",
       "    <tr style=\"text-align: right;\">\n",
       "      <th></th>\n",
       "      <th>PassengerId</th>\n",
       "      <th>Survived</th>\n",
       "      <th>Pclass</th>\n",
       "      <th>Name</th>\n",
       "      <th>Sex</th>\n",
       "      <th>Age</th>\n",
       "      <th>SibSp</th>\n",
       "      <th>Parch</th>\n",
       "      <th>Ticket</th>\n",
       "      <th>Fare</th>\n",
       "      <th>Cabin</th>\n",
       "      <th>Embarked</th>\n",
       "      <th>Cabin_null</th>\n",
       "      <th>FareBin</th>\n",
       "      <th>AgeGroup</th>\n",
       "      <th>Age_null</th>\n",
       "      <th>Title</th>\n",
       "      <th>FamilySize</th>\n",
       "      <th>IsAlone</th>\n",
       "    </tr>\n",
       "  </thead>\n",
       "  <tbody>\n",
       "    <tr>\n",
       "      <th>0</th>\n",
       "      <td>1</td>\n",
       "      <td>0</td>\n",
       "      <td>3</td>\n",
       "      <td>Braund, Mr. Owen Harris</td>\n",
       "      <td>0</td>\n",
       "      <td>22.0</td>\n",
       "      <td>1</td>\n",
       "      <td>0</td>\n",
       "      <td>A5</td>\n",
       "      <td>7.2500</td>\n",
       "      <td>X</td>\n",
       "      <td>S</td>\n",
       "      <td>1</td>\n",
       "      <td>0</td>\n",
       "      <td>4</td>\n",
       "      <td>0</td>\n",
       "      <td>Mr</td>\n",
       "      <td>2</td>\n",
       "      <td>0</td>\n",
       "    </tr>\n",
       "    <tr>\n",
       "      <th>1</th>\n",
       "      <td>2</td>\n",
       "      <td>1</td>\n",
       "      <td>1</td>\n",
       "      <td>Cumings, Mrs. John Bradley (Florence Briggs Th...</td>\n",
       "      <td>1</td>\n",
       "      <td>38.0</td>\n",
       "      <td>1</td>\n",
       "      <td>0</td>\n",
       "      <td>PC</td>\n",
       "      <td>71.2833</td>\n",
       "      <td>C</td>\n",
       "      <td>C</td>\n",
       "      <td>0</td>\n",
       "      <td>3</td>\n",
       "      <td>4</td>\n",
       "      <td>0</td>\n",
       "      <td>Mrs</td>\n",
       "      <td>2</td>\n",
       "      <td>0</td>\n",
       "    </tr>\n",
       "    <tr>\n",
       "      <th>2</th>\n",
       "      <td>3</td>\n",
       "      <td>1</td>\n",
       "      <td>3</td>\n",
       "      <td>Heikkinen, Miss. Laina</td>\n",
       "      <td>1</td>\n",
       "      <td>26.0</td>\n",
       "      <td>0</td>\n",
       "      <td>0</td>\n",
       "      <td>STONO2</td>\n",
       "      <td>7.9250</td>\n",
       "      <td>X</td>\n",
       "      <td>S</td>\n",
       "      <td>1</td>\n",
       "      <td>1</td>\n",
       "      <td>4</td>\n",
       "      <td>0</td>\n",
       "      <td>Miss</td>\n",
       "      <td>1</td>\n",
       "      <td>1</td>\n",
       "    </tr>\n",
       "    <tr>\n",
       "      <th>3</th>\n",
       "      <td>4</td>\n",
       "      <td>1</td>\n",
       "      <td>1</td>\n",
       "      <td>Futrelle, Mrs. Jacques Heath (Lily May Peel)</td>\n",
       "      <td>1</td>\n",
       "      <td>35.0</td>\n",
       "      <td>1</td>\n",
       "      <td>0</td>\n",
       "      <td>X</td>\n",
       "      <td>53.1000</td>\n",
       "      <td>C</td>\n",
       "      <td>S</td>\n",
       "      <td>0</td>\n",
       "      <td>3</td>\n",
       "      <td>4</td>\n",
       "      <td>0</td>\n",
       "      <td>Mrs</td>\n",
       "      <td>2</td>\n",
       "      <td>0</td>\n",
       "    </tr>\n",
       "    <tr>\n",
       "      <th>4</th>\n",
       "      <td>5</td>\n",
       "      <td>0</td>\n",
       "      <td>3</td>\n",
       "      <td>Allen, Mr. William Henry</td>\n",
       "      <td>0</td>\n",
       "      <td>35.0</td>\n",
       "      <td>0</td>\n",
       "      <td>0</td>\n",
       "      <td>X</td>\n",
       "      <td>8.0500</td>\n",
       "      <td>X</td>\n",
       "      <td>S</td>\n",
       "      <td>1</td>\n",
       "      <td>1</td>\n",
       "      <td>4</td>\n",
       "      <td>0</td>\n",
       "      <td>Mr</td>\n",
       "      <td>1</td>\n",
       "      <td>1</td>\n",
       "    </tr>\n",
       "  </tbody>\n",
       "</table>\n",
       "</div>"
      ],
      "text/plain": [
       "   PassengerId  Survived  Pclass  \\\n",
       "0            1         0       3   \n",
       "1            2         1       1   \n",
       "2            3         1       3   \n",
       "3            4         1       1   \n",
       "4            5         0       3   \n",
       "\n",
       "                                                Name  Sex   Age  SibSp  Parch  \\\n",
       "0                            Braund, Mr. Owen Harris    0  22.0      1      0   \n",
       "1  Cumings, Mrs. John Bradley (Florence Briggs Th...    1  38.0      1      0   \n",
       "2                             Heikkinen, Miss. Laina    1  26.0      0      0   \n",
       "3       Futrelle, Mrs. Jacques Heath (Lily May Peel)    1  35.0      1      0   \n",
       "4                           Allen, Mr. William Henry    0  35.0      0      0   \n",
       "\n",
       "   Ticket     Fare Cabin Embarked  Cabin_null  FareBin  AgeGroup  Age_null  \\\n",
       "0      A5   7.2500     X        S           1        0         4         0   \n",
       "1      PC  71.2833     C        C           0        3         4         0   \n",
       "2  STONO2   7.9250     X        S           1        1         4         0   \n",
       "3       X  53.1000     C        S           0        3         4         0   \n",
       "4       X   8.0500     X        S           1        1         4         0   \n",
       "\n",
       "  Title  FamilySize  IsAlone  \n",
       "0    Mr           2        0  \n",
       "1   Mrs           2        0  \n",
       "2  Miss           1        1  \n",
       "3   Mrs           2        0  \n",
       "4    Mr           1        1  "
      ]
     },
     "execution_count": 111,
     "metadata": {},
     "output_type": "execute_result"
    }
   ],
   "source": [
    "#for dataset in combine:\n",
    " #   dataset[\"Age\"] = dataset[\"Age\"].fillna(-0.5)\n",
    "\n",
    "age_bins=[0,5,12,18,50,65,120]\n",
    "age_labels=['baby','kid','teenager','adult','aging','elderly']\n",
    "for dataset in combine:\n",
    "    dataset['AgeGroup']=pd.cut(dataset['Age'], age_bins, labels=age_labels)\n",
    "\n",
    "cleanup_agegroup = {'baby':1,'kid':2,'teenager':3,'adult':4,'aging':5,'elderly':6}\n",
    "cleanup_sex = {'male':0,'female':1}\n",
    "for dataset in combine:\n",
    "    dataset['AgeGroup']=dataset['AgeGroup'].map(cleanup_agegroup).astype(int)\n",
    "    dataset['Sex']=dataset['Sex'].map(cleanup_sex).astype(int)\n",
    "data_raw.head()"
   ]
  },
  {
   "cell_type": "markdown",
   "metadata": {
    "_uuid": "f4bc8374e16c301282202c69779e111401b03769"
   },
   "source": [
    "**4. Establishing the model**\n",
    "\n",
    "To establish our model, we drop features including name, passenger ID  as they can hardly provide new insights (we already took out the title features)\n",
    "We establish two types of model dealing with the age and fare information: in type 1, we keep the numerical age and fare and drop the agegroup and farebin features. in type 2, we instead use the agegroup and farebin to represent the age and fare.\n",
    "as we use agegroup instead, sibsp and parch as we used family size instead, and Fare as we think it is determined by the pclass and embarked features. "
   ]
  },
  {
   "cell_type": "code",
   "execution_count": 112,
   "metadata": {
    "_uuid": "7600e1df6e0ab62816261949c74e8c2c646d7e13",
    "scrolled": false
   },
   "outputs": [],
   "source": [
    "# First we combine the training data and test dat in order to get the same number of dummy features when using one hot encoded\n",
    "# to deal with the training data and test data together, we firstly separate features and labels in training data into data_raw and Y_train \n",
    "Y_train = data_raw[\"Survived\"]\n",
    "drop_column = ['Survived']\n",
    "data_raw.drop(drop_column, axis=1, inplace=True)\n",
    "\n",
    "data_raw_len = len(data_raw)\n",
    "dataset_comb =  pd.concat(objs=[data_raw, data_val], axis=0).reset_index(drop=True)"
   ]
  },
  {
   "cell_type": "code",
   "execution_count": 113,
   "metadata": {
    "_uuid": "e693a6dd05cbd856895fdf0acdaabdefbfb40c40"
   },
   "outputs": [
    {
     "data": {
      "text/html": [
       "<div>\n",
       "<style scoped>\n",
       "    .dataframe tbody tr th:only-of-type {\n",
       "        vertical-align: middle;\n",
       "    }\n",
       "\n",
       "    .dataframe tbody tr th {\n",
       "        vertical-align: top;\n",
       "    }\n",
       "\n",
       "    .dataframe thead th {\n",
       "        text-align: right;\n",
       "    }\n",
       "</style>\n",
       "<table border=\"1\" class=\"dataframe\">\n",
       "  <thead>\n",
       "    <tr style=\"text-align: right;\">\n",
       "      <th></th>\n",
       "      <th>Pclass</th>\n",
       "      <th>Sex</th>\n",
       "      <th>Age</th>\n",
       "      <th>Age_null</th>\n",
       "      <th>FamilySize</th>\n",
       "      <th>SibSp</th>\n",
       "      <th>Parch</th>\n",
       "      <th>Fare</th>\n",
       "      <th>Cabin_null</th>\n",
       "      <th>Embarked</th>\n",
       "      <th>Title</th>\n",
       "      <th>IsAlone</th>\n",
       "    </tr>\n",
       "  </thead>\n",
       "  <tbody>\n",
       "    <tr>\n",
       "      <th>0</th>\n",
       "      <td>3</td>\n",
       "      <td>0</td>\n",
       "      <td>22.0</td>\n",
       "      <td>0</td>\n",
       "      <td>2</td>\n",
       "      <td>1</td>\n",
       "      <td>0</td>\n",
       "      <td>7.2500</td>\n",
       "      <td>1</td>\n",
       "      <td>S</td>\n",
       "      <td>Mr</td>\n",
       "      <td>0</td>\n",
       "    </tr>\n",
       "    <tr>\n",
       "      <th>1</th>\n",
       "      <td>1</td>\n",
       "      <td>1</td>\n",
       "      <td>38.0</td>\n",
       "      <td>0</td>\n",
       "      <td>2</td>\n",
       "      <td>1</td>\n",
       "      <td>0</td>\n",
       "      <td>71.2833</td>\n",
       "      <td>0</td>\n",
       "      <td>C</td>\n",
       "      <td>Mrs</td>\n",
       "      <td>0</td>\n",
       "    </tr>\n",
       "    <tr>\n",
       "      <th>2</th>\n",
       "      <td>3</td>\n",
       "      <td>1</td>\n",
       "      <td>26.0</td>\n",
       "      <td>0</td>\n",
       "      <td>1</td>\n",
       "      <td>0</td>\n",
       "      <td>0</td>\n",
       "      <td>7.9250</td>\n",
       "      <td>1</td>\n",
       "      <td>S</td>\n",
       "      <td>Miss</td>\n",
       "      <td>1</td>\n",
       "    </tr>\n",
       "    <tr>\n",
       "      <th>3</th>\n",
       "      <td>1</td>\n",
       "      <td>1</td>\n",
       "      <td>35.0</td>\n",
       "      <td>0</td>\n",
       "      <td>2</td>\n",
       "      <td>1</td>\n",
       "      <td>0</td>\n",
       "      <td>53.1000</td>\n",
       "      <td>0</td>\n",
       "      <td>S</td>\n",
       "      <td>Mrs</td>\n",
       "      <td>0</td>\n",
       "    </tr>\n",
       "    <tr>\n",
       "      <th>4</th>\n",
       "      <td>3</td>\n",
       "      <td>0</td>\n",
       "      <td>35.0</td>\n",
       "      <td>0</td>\n",
       "      <td>1</td>\n",
       "      <td>0</td>\n",
       "      <td>0</td>\n",
       "      <td>8.0500</td>\n",
       "      <td>1</td>\n",
       "      <td>S</td>\n",
       "      <td>Mr</td>\n",
       "      <td>1</td>\n",
       "    </tr>\n",
       "  </tbody>\n",
       "</table>\n",
       "</div>"
      ],
      "text/plain": [
       "   Pclass  Sex   Age  Age_null  FamilySize  SibSp  Parch     Fare  Cabin_null  \\\n",
       "0       3    0  22.0         0           2      1      0   7.2500           1   \n",
       "1       1    1  38.0         0           2      1      0  71.2833           0   \n",
       "2       3    1  26.0         0           1      0      0   7.9250           1   \n",
       "3       1    1  35.0         0           2      1      0  53.1000           0   \n",
       "4       3    0  35.0         0           1      0      0   8.0500           1   \n",
       "\n",
       "  Embarked Title  IsAlone  \n",
       "0        S    Mr        0  \n",
       "1        C   Mrs        0  \n",
       "2        S  Miss        1  \n",
       "3        S   Mrs        0  \n",
       "4        S    Mr        1  "
      ]
     },
     "execution_count": 113,
     "metadata": {},
     "output_type": "execute_result"
    }
   ],
   "source": [
    "# in feature group1, we drop ['Name','AgeGroup','PassengerId','FareBin','Ticket','Cabin'] to use numerical age and fare for the model\n",
    "# in feature group2, instead we drop ['Name','Age','PassengerId','Fare','FamilySize','Cabin']\n",
    "\n",
    "Feature_Group1 = ['Pclass','Sex','Age','Age_null', 'FamilySize','SibSp', 'Parch','Fare','Cabin_null','Embarked', 'Title', 'IsAlone']\n",
    "\n",
    "dataset1 = dataset_comb[Feature_Group1]\n",
    "\n",
    "dataset1.head()"
   ]
  },
  {
   "cell_type": "code",
   "execution_count": 114,
   "metadata": {
    "_uuid": "449b0c002fdc9362450cb117b59104e495015841"
   },
   "outputs": [
    {
     "data": {
      "text/html": [
       "<div>\n",
       "<style scoped>\n",
       "    .dataframe tbody tr th:only-of-type {\n",
       "        vertical-align: middle;\n",
       "    }\n",
       "\n",
       "    .dataframe tbody tr th {\n",
       "        vertical-align: top;\n",
       "    }\n",
       "\n",
       "    .dataframe thead th {\n",
       "        text-align: right;\n",
       "    }\n",
       "</style>\n",
       "<table border=\"1\" class=\"dataframe\">\n",
       "  <thead>\n",
       "    <tr style=\"text-align: right;\">\n",
       "      <th></th>\n",
       "      <th>Pclass</th>\n",
       "      <th>Sex</th>\n",
       "      <th>Age</th>\n",
       "      <th>Age_null</th>\n",
       "      <th>FamilySize</th>\n",
       "      <th>SibSp</th>\n",
       "      <th>Parch</th>\n",
       "      <th>Fare</th>\n",
       "      <th>Cabin_null</th>\n",
       "      <th>IsAlone</th>\n",
       "      <th>Embarked_C</th>\n",
       "      <th>Embarked_Q</th>\n",
       "      <th>Embarked_S</th>\n",
       "      <th>Title_Master</th>\n",
       "      <th>Title_Miss</th>\n",
       "      <th>Title_Mr</th>\n",
       "      <th>Title_Mrs</th>\n",
       "      <th>Title_Rare</th>\n",
       "    </tr>\n",
       "  </thead>\n",
       "  <tbody>\n",
       "    <tr>\n",
       "      <th>0</th>\n",
       "      <td>3</td>\n",
       "      <td>0</td>\n",
       "      <td>22.0</td>\n",
       "      <td>0</td>\n",
       "      <td>2</td>\n",
       "      <td>1</td>\n",
       "      <td>0</td>\n",
       "      <td>7.2500</td>\n",
       "      <td>1</td>\n",
       "      <td>0</td>\n",
       "      <td>0</td>\n",
       "      <td>0</td>\n",
       "      <td>1</td>\n",
       "      <td>0</td>\n",
       "      <td>0</td>\n",
       "      <td>1</td>\n",
       "      <td>0</td>\n",
       "      <td>0</td>\n",
       "    </tr>\n",
       "    <tr>\n",
       "      <th>1</th>\n",
       "      <td>1</td>\n",
       "      <td>1</td>\n",
       "      <td>38.0</td>\n",
       "      <td>0</td>\n",
       "      <td>2</td>\n",
       "      <td>1</td>\n",
       "      <td>0</td>\n",
       "      <td>71.2833</td>\n",
       "      <td>0</td>\n",
       "      <td>0</td>\n",
       "      <td>1</td>\n",
       "      <td>0</td>\n",
       "      <td>0</td>\n",
       "      <td>0</td>\n",
       "      <td>0</td>\n",
       "      <td>0</td>\n",
       "      <td>1</td>\n",
       "      <td>0</td>\n",
       "    </tr>\n",
       "    <tr>\n",
       "      <th>2</th>\n",
       "      <td>3</td>\n",
       "      <td>1</td>\n",
       "      <td>26.0</td>\n",
       "      <td>0</td>\n",
       "      <td>1</td>\n",
       "      <td>0</td>\n",
       "      <td>0</td>\n",
       "      <td>7.9250</td>\n",
       "      <td>1</td>\n",
       "      <td>1</td>\n",
       "      <td>0</td>\n",
       "      <td>0</td>\n",
       "      <td>1</td>\n",
       "      <td>0</td>\n",
       "      <td>1</td>\n",
       "      <td>0</td>\n",
       "      <td>0</td>\n",
       "      <td>0</td>\n",
       "    </tr>\n",
       "    <tr>\n",
       "      <th>3</th>\n",
       "      <td>1</td>\n",
       "      <td>1</td>\n",
       "      <td>35.0</td>\n",
       "      <td>0</td>\n",
       "      <td>2</td>\n",
       "      <td>1</td>\n",
       "      <td>0</td>\n",
       "      <td>53.1000</td>\n",
       "      <td>0</td>\n",
       "      <td>0</td>\n",
       "      <td>0</td>\n",
       "      <td>0</td>\n",
       "      <td>1</td>\n",
       "      <td>0</td>\n",
       "      <td>0</td>\n",
       "      <td>0</td>\n",
       "      <td>1</td>\n",
       "      <td>0</td>\n",
       "    </tr>\n",
       "    <tr>\n",
       "      <th>4</th>\n",
       "      <td>3</td>\n",
       "      <td>0</td>\n",
       "      <td>35.0</td>\n",
       "      <td>0</td>\n",
       "      <td>1</td>\n",
       "      <td>0</td>\n",
       "      <td>0</td>\n",
       "      <td>8.0500</td>\n",
       "      <td>1</td>\n",
       "      <td>1</td>\n",
       "      <td>0</td>\n",
       "      <td>0</td>\n",
       "      <td>1</td>\n",
       "      <td>0</td>\n",
       "      <td>0</td>\n",
       "      <td>1</td>\n",
       "      <td>0</td>\n",
       "      <td>0</td>\n",
       "    </tr>\n",
       "  </tbody>\n",
       "</table>\n",
       "</div>"
      ],
      "text/plain": [
       "   Pclass  Sex   Age  Age_null  FamilySize  SibSp  Parch     Fare  Cabin_null  \\\n",
       "0       3    0  22.0         0           2      1      0   7.2500           1   \n",
       "1       1    1  38.0         0           2      1      0  71.2833           0   \n",
       "2       3    1  26.0         0           1      0      0   7.9250           1   \n",
       "3       1    1  35.0         0           2      1      0  53.1000           0   \n",
       "4       3    0  35.0         0           1      0      0   8.0500           1   \n",
       "\n",
       "   IsAlone  Embarked_C  Embarked_Q  Embarked_S  Title_Master  Title_Miss  \\\n",
       "0        0           0           0           1             0           0   \n",
       "1        0           1           0           0             0           0   \n",
       "2        1           0           0           1             0           1   \n",
       "3        0           0           0           1             0           0   \n",
       "4        1           0           0           1             0           0   \n",
       "\n",
       "   Title_Mr  Title_Mrs  Title_Rare  \n",
       "0         1          0           0  \n",
       "1         0          1           0  \n",
       "2         0          0           0  \n",
       "3         0          1           0  \n",
       "4         1          0           0  "
      ]
     },
     "execution_count": 114,
     "metadata": {},
     "output_type": "execute_result"
    }
   ],
   "source": [
    "# As for title and embarked features, \n",
    "# each different types of values should be of the same weight, \n",
    "# we encode them by one hot encoder to transfer each possible value into a boolean type\n",
    "from sklearn.preprocessing import OneHotEncoder\n",
    "one_hot_encoded_dataset1 = pd.get_dummies(dataset1)\n",
    "one_hot_encoded_dataset1.head()"
   ]
  },
  {
   "cell_type": "markdown",
   "metadata": {
    "_uuid": "a541dbad1b1607d3937d088a89abf7d78a5ec8a0"
   },
   "source": [
    "Previously I noticed that some fare are extremely large, in which case the very large values may negatively affect the performance of the algorithm, so I log transform the fare feature firsly. Then I standardardize the age and fare features."
   ]
  },
  {
   "cell_type": "code",
   "execution_count": 115,
   "metadata": {
    "_uuid": "86124eae690e2db957ae7bdea83d4bcfb53be015",
    "scrolled": false
   },
   "outputs": [],
   "source": [
    "from sklearn.preprocessing import MinMaxScaler\n",
    "dataset1['Fare'] = dataset1['Fare'].apply(lambda x: np.log(x + 1))\n",
    "one_hot_encoded_dataset1[['Age', 'Fare']] = MinMaxScaler().fit_transform(dataset1[['Age', 'Fare']])\n"
   ]
  },
  {
   "cell_type": "code",
   "execution_count": 116,
   "metadata": {
    "_uuid": "df8c4ca9635d1a43893ff19829fe76ec1f2ab34b"
   },
   "outputs": [
    {
     "data": {
      "text/html": [
       "<div>\n",
       "<style scoped>\n",
       "    .dataframe tbody tr th:only-of-type {\n",
       "        vertical-align: middle;\n",
       "    }\n",
       "\n",
       "    .dataframe tbody tr th {\n",
       "        vertical-align: top;\n",
       "    }\n",
       "\n",
       "    .dataframe thead th {\n",
       "        text-align: right;\n",
       "    }\n",
       "</style>\n",
       "<table border=\"1\" class=\"dataframe\">\n",
       "  <thead>\n",
       "    <tr style=\"text-align: right;\">\n",
       "      <th></th>\n",
       "      <th>Pclass</th>\n",
       "      <th>Sex</th>\n",
       "      <th>Age</th>\n",
       "      <th>Age_null</th>\n",
       "      <th>FamilySize</th>\n",
       "      <th>SibSp</th>\n",
       "      <th>Parch</th>\n",
       "      <th>Fare</th>\n",
       "      <th>Cabin_null</th>\n",
       "      <th>IsAlone</th>\n",
       "      <th>Embarked_C</th>\n",
       "      <th>Embarked_Q</th>\n",
       "      <th>Embarked_S</th>\n",
       "      <th>Title_Master</th>\n",
       "      <th>Title_Miss</th>\n",
       "      <th>Title_Mr</th>\n",
       "      <th>Title_Mrs</th>\n",
       "      <th>Title_Rare</th>\n",
       "    </tr>\n",
       "  </thead>\n",
       "  <tbody>\n",
       "    <tr>\n",
       "      <th>0</th>\n",
       "      <td>3</td>\n",
       "      <td>0</td>\n",
       "      <td>0.273456</td>\n",
       "      <td>0</td>\n",
       "      <td>2</td>\n",
       "      <td>1</td>\n",
       "      <td>0</td>\n",
       "      <td>0.338125</td>\n",
       "      <td>1</td>\n",
       "      <td>0</td>\n",
       "      <td>0</td>\n",
       "      <td>0</td>\n",
       "      <td>1</td>\n",
       "      <td>0</td>\n",
       "      <td>0</td>\n",
       "      <td>1</td>\n",
       "      <td>0</td>\n",
       "      <td>0</td>\n",
       "    </tr>\n",
       "    <tr>\n",
       "      <th>1</th>\n",
       "      <td>1</td>\n",
       "      <td>1</td>\n",
       "      <td>0.473882</td>\n",
       "      <td>0</td>\n",
       "      <td>2</td>\n",
       "      <td>1</td>\n",
       "      <td>0</td>\n",
       "      <td>0.685892</td>\n",
       "      <td>0</td>\n",
       "      <td>0</td>\n",
       "      <td>1</td>\n",
       "      <td>0</td>\n",
       "      <td>0</td>\n",
       "      <td>0</td>\n",
       "      <td>0</td>\n",
       "      <td>0</td>\n",
       "      <td>1</td>\n",
       "      <td>0</td>\n",
       "    </tr>\n",
       "    <tr>\n",
       "      <th>2</th>\n",
       "      <td>3</td>\n",
       "      <td>1</td>\n",
       "      <td>0.323563</td>\n",
       "      <td>0</td>\n",
       "      <td>1</td>\n",
       "      <td>0</td>\n",
       "      <td>0</td>\n",
       "      <td>0.350727</td>\n",
       "      <td>1</td>\n",
       "      <td>1</td>\n",
       "      <td>0</td>\n",
       "      <td>0</td>\n",
       "      <td>1</td>\n",
       "      <td>0</td>\n",
       "      <td>1</td>\n",
       "      <td>0</td>\n",
       "      <td>0</td>\n",
       "      <td>0</td>\n",
       "    </tr>\n",
       "    <tr>\n",
       "      <th>3</th>\n",
       "      <td>1</td>\n",
       "      <td>1</td>\n",
       "      <td>0.436302</td>\n",
       "      <td>0</td>\n",
       "      <td>2</td>\n",
       "      <td>1</td>\n",
       "      <td>0</td>\n",
       "      <td>0.639463</td>\n",
       "      <td>0</td>\n",
       "      <td>0</td>\n",
       "      <td>0</td>\n",
       "      <td>0</td>\n",
       "      <td>1</td>\n",
       "      <td>0</td>\n",
       "      <td>0</td>\n",
       "      <td>0</td>\n",
       "      <td>1</td>\n",
       "      <td>0</td>\n",
       "    </tr>\n",
       "    <tr>\n",
       "      <th>4</th>\n",
       "      <td>3</td>\n",
       "      <td>0</td>\n",
       "      <td>0.436302</td>\n",
       "      <td>0</td>\n",
       "      <td>1</td>\n",
       "      <td>0</td>\n",
       "      <td>0</td>\n",
       "      <td>0.352955</td>\n",
       "      <td>1</td>\n",
       "      <td>1</td>\n",
       "      <td>0</td>\n",
       "      <td>0</td>\n",
       "      <td>1</td>\n",
       "      <td>0</td>\n",
       "      <td>0</td>\n",
       "      <td>1</td>\n",
       "      <td>0</td>\n",
       "      <td>0</td>\n",
       "    </tr>\n",
       "  </tbody>\n",
       "</table>\n",
       "</div>"
      ],
      "text/plain": [
       "   Pclass  Sex       Age  Age_null  FamilySize  SibSp  Parch      Fare  \\\n",
       "0       3    0  0.273456         0           2      1      0  0.338125   \n",
       "1       1    1  0.473882         0           2      1      0  0.685892   \n",
       "2       3    1  0.323563         0           1      0      0  0.350727   \n",
       "3       1    1  0.436302         0           2      1      0  0.639463   \n",
       "4       3    0  0.436302         0           1      0      0  0.352955   \n",
       "\n",
       "   Cabin_null  IsAlone  Embarked_C  Embarked_Q  Embarked_S  Title_Master  \\\n",
       "0           1        0           0           0           1             0   \n",
       "1           0        0           1           0           0             0   \n",
       "2           1        1           0           0           1             0   \n",
       "3           0        0           0           0           1             0   \n",
       "4           1        1           0           0           1             0   \n",
       "\n",
       "   Title_Miss  Title_Mr  Title_Mrs  Title_Rare  \n",
       "0           0         1          0           0  \n",
       "1           0         0          1           0  \n",
       "2           1         0          0           0  \n",
       "3           0         0          1           0  \n",
       "4           0         1          0           0  "
      ]
     },
     "execution_count": 116,
     "metadata": {},
     "output_type": "execute_result"
    }
   ],
   "source": [
    "X_train = one_hot_encoded_dataset1[:data_raw_len]\n",
    "X_test = one_hot_encoded_dataset1[data_raw_len:]\n",
    "\n",
    "X_train.head()"
   ]
  },
  {
   "cell_type": "markdown",
   "metadata": {
    "_uuid": "2fd61d427c6440aef75810010deb88e4c301e3d9"
   },
   "source": [
    "To establish our model, we split the training data into training set and development set with the ratio 75:25"
   ]
  },
  {
   "cell_type": "code",
   "execution_count": 117,
   "metadata": {
    "_uuid": "7f4c244eb46ee5db1cc422bea2329fe2c9e29d71"
   },
   "outputs": [],
   "source": [
    "from sklearn.model_selection import train_test_split\n",
    "x_train, x_dev, y_train, y_dev = train_test_split(X_train, Y_train, test_size = 0.25, random_state = 1)"
   ]
  },
  {
   "cell_type": "markdown",
   "metadata": {
    "_uuid": "a48bb3bd8ad7dcce78b997b49d87aa582afea94d"
   },
   "source": [
    "**5. Model implementation**\n",
    "\n",
    "In this problem, we care the most about the accuracy of the model, thus we used the accuracy as the evaluation metrics. We compare the result of following result:\n",
    "\n",
    "* Logistic Regression\n",
    "* Decision Tree\n",
    "* Gaussian Naive Bayes\n",
    "* Support Vector Machines (SVM)\n",
    "* K-Nearest Neighbors\n",
    "* Ensemble Methods including Bagging, AdaBoost, Random Forest, Gradient Boosting"
   ]
  },
  {
   "cell_type": "code",
   "execution_count": 118,
   "metadata": {},
   "outputs": [],
   "source": [
    "from sklearn.metrics import accuracy_score\n",
    "from time import time\n",
    "\n",
    "def train_predict(learner, X_train, y_train, X_test, y_test): \n",
    "    '''\n",
    "    inputs:\n",
    "       - learner: the learning algorithm to be trained and predicted on\n",
    "       - X_train: features training set\n",
    "       - y_train: income training set\n",
    "       - X_test: features testing set\n",
    "       - y_test: income testing set\n",
    "    '''\n",
    "    \n",
    "    results = {}\n",
    "    \n",
    "    start = time() # Get start time\n",
    "    learner = learner.fit(X_train, y_train)\n",
    "    end = time() # Get end time\n",
    "    \n",
    "    # Calculate the training time\n",
    "    results['train_time'] = end-start\n",
    "        \n",
    "    # Get the predictions on the test and train set(X_test),\n",
    "    start = time() # Get start time\n",
    "    predictions_test = learner.predict(X_test)\n",
    "    predictions_train = learner.predict(X_train)\n",
    "    end = time() # Get end time\n",
    "    results['pred_time'] = end-start\n",
    "    results['acc_train'] = accuracy_score(y_train, predictions_train)\n",
    "    results['acc_test'] = accuracy_score(y_test, predictions_test)\n",
    "    \n",
    "    # Success\n",
    "    print(\"{} trained on samples.\".format(learner.__class__.__name__))\n",
    "        \n",
    "    # Return the results\n",
    "    return results\n",
    "\n",
    "\n",
    "\n"
   ]
  },
  {
   "cell_type": "code",
   "execution_count": 119,
   "metadata": {},
   "outputs": [
    {
     "name": "stdout",
     "output_type": "stream",
     "text": [
      "LogisticRegression trained on samples.\n",
      "Perceptron trained on samples.\n",
      "DecisionTreeClassifier trained on samples.\n",
      "GaussianNB trained on samples.\n",
      "SVC trained on samples.\n",
      "KNeighborsClassifier trained on samples.\n",
      "AdaBoostClassifier trained on samples.\n",
      "BaggingClassifier trained on samples.\n",
      "RandomForestClassifier trained on samples.\n",
      "GradientBoostingClassifier trained on samples.\n"
     ]
    },
    {
     "data": {
      "image/png": "[encoded data removed]",
      "text/plain": [
       "<Figure size 864x576 with 1 Axes>"
      ]
     },
     "metadata": {},
     "output_type": "display_data"
    }
   ],
   "source": [
    "from sklearn.linear_model import LogisticRegression, Perceptron\n",
    "from sklearn.tree import DecisionTreeClassifier\n",
    "from sklearn.naive_bayes import GaussianNB\n",
    "from sklearn.svm import SVC\n",
    "from sklearn.neighbors import KNeighborsClassifier\n",
    "from sklearn.ensemble import AdaBoostClassifier, BaggingClassifier, RandomForestClassifier, GradientBoostingClassifier\n",
    "\n",
    "\n",
    "# initialize all models\n",
    "\n",
    "model_1 = LogisticRegression()\n",
    "model_2 = Perceptron()\n",
    "model_3 = DecisionTreeClassifier()\n",
    "model_4 = GaussianNB()\n",
    "model_5 = SVC(kernel='rbf',gamma=0.001,C=10)\n",
    "model_6 = KNeighborsClassifier()\n",
    "model_7 = AdaBoostClassifier()\n",
    "model_8 = BaggingClassifier()\n",
    "model_9 = RandomForestClassifier()\n",
    "model_10 = GradientBoostingClassifier()\n",
    "\n",
    "models = [model_1, model_2, model_3, model_4, model_5, model_6, model_7, model_8, model_9, model_10]\n",
    "results = {}\n",
    "model_names = []\n",
    "train_accuracies = []\n",
    "test_accuracies = []\n",
    "\n",
    "for model in models:\n",
    "    results[model.__class__.__name__] = train_predict(model, x_train, y_train, x_dev, y_dev)\n",
    "    model_names.append(model.__class__.__name__)\n",
    "    train_accuracies.append(results[model.__class__.__name__]['acc_train'])\n",
    "    test_accuracies.append(results[model.__class__.__name__]['acc_test'])    \n",
    "\n",
    "\n",
    "# Plot and compare the accuracy of different models\n",
    "plt.figure(figsize=[12,8])\n",
    "barWidth = 0.4\n",
    "plt.xlim(0.7, 1)\n",
    "r1 = np.arange(len(models))\n",
    "r2 = [x + barWidth for x in r1]\n",
    " \n",
    "# Make the plot\n",
    "plt.barh(r1, train_accuracies, height=barWidth, edgecolor='white', label='train')\n",
    "plt.barh(r2, test_accuracies,  height=barWidth, edgecolor='white', label='test')\n",
    " \n",
    "# Add xticks on the middle of the group bars\n",
    "plt.yticks([r + barWidth for r in range(len(models))], model_names, fontsize = 15)\n",
    "plt.legend(fontsize= 15)\n",
    " \n",
    "# Create legend & Show graphic\n",
    "\n",
    "plt.show()\n",
    "\n"
   ]
  },
  {
   "cell_type": "markdown",
   "metadata": {},
   "source": [
    "According to the above result, ensemble methods and decision tree are overfitting. To find the best model, I will tune hyperparameters of these models to find their best performance."
   ]
  },
  {
   "cell_type": "code",
   "execution_count": 120,
   "metadata": {},
   "outputs": [],
   "source": [
    "from sklearn.metrics import make_scorer\n",
    "from sklearn.model_selection import GridSearchCV, RandomizedSearchCV\n",
    "\n",
    "\n",
    "def grid_search(learner, parameters, X_train, y_train, X_test, y_test, search = 'GridSearchCV'): \n",
    "    '''\n",
    "    inputs:\n",
    "       - learner: the learning algorithm to be trained and predicted on\n",
    "       - parameters: the library of the hyperparameters to tune\n",
    "       - X_train: features training set\n",
    "       - y_train: income training set\n",
    "       - X_test: features testing set\n",
    "       - y_test: income testing set\n",
    "    '''\n",
    "    \n",
    "    results = {}\n",
    "    scorer = make_scorer(accuracy_score)\n",
    "    \n",
    "    start = time() # Get start time\n",
    "    if search == 'GridSearchCV':\n",
    "        grid_fit = GridSearchCV(learner, parameters, scorer).fit(X_train, y_train)\n",
    "    elif search == 'RandomizedSearchCV':\n",
    "        grid_fit = RandomizedSearchCV(learner, parameters, scorer).fit(X_train, y_train)\n",
    "    best_model = grid_fit.best_estimator_\n",
    "    best_model.fit(X_train, y_train)\n",
    "    end = time() # Get end time\n",
    "    \n",
    "    # Calculate the training time\n",
    "    results['train_time'] = end-start\n",
    "        \n",
    "    # Get the predictions on the test and train set(X_test),\n",
    "    start = time() # Get start time\n",
    "    predictions_test = best_model.predict(X_test)\n",
    "    predictions_train = best_model.predict(X_train)\n",
    "    end = time() # Get end time\n",
    "    results['pred_time'] = end-start\n",
    "    results['best_model'] = best_model\n",
    "    results['acc_train'] = accuracy_score(y_train, predictions_train)\n",
    "    results['acc_test'] = accuracy_score(y_test, predictions_test)\n",
    "    \n",
    "    # Success\n",
    "    print(\"{} trained on samples.\".format(learner.__class__.__name__))\n",
    "        \n",
    "    # Return the results\n",
    "    return results\n",
    "\n",
    "\n",
    "\n",
    "\n",
    "\n"
   ]
  },
  {
   "cell_type": "code",
   "execution_count": 129,
   "metadata": {},
   "outputs": [
    {
     "name": "stdout",
     "output_type": "stream",
     "text": [
      "DecisionTreeClassifier trained on samples.\n",
      "AdaBoostClassifier trained on samples.\n",
      "BaggingClassifier trained on samples.\n",
      "GradientBoostingClassifier trained on samples.\n",
      "RandomForestClassifier trained on samples.\n"
     ]
    },
    {
     "data": {
      "image/png": "[encoded data removed]",
      "text/plain": [
       "<Figure size 864x576 with 1 Axes>"
      ]
     },
     "metadata": {},
     "output_type": "display_data"
    }
   ],
   "source": [
    "\n",
    "model_11 = DecisionTreeClassifier()\n",
    "parameters_11 = {'max_depth':range(1,10), 'min_samples_split':range(2,20), 'min_samples_leaf':range(2,20)}\n",
    "model_12 = AdaBoostClassifier()\n",
    "parameters_12 = {\"n_estimators\":[10, 100, 200],\n",
    "             \"learning_rate\":[0.001, 0.005, .01, 0.05, 0.1, 0.2, 0.3, 0.4, 0.5, 1, 2, 10, 20]}\n",
    "model_13 = BaggingClassifier()\n",
    "parameters_13 = {'n_estimators':[5,10,50,100], 'max_samples':[0.2, 0.5, 1], 'max_features':[0.5, 1]}\n",
    "model_14 = RandomForestClassifier()\n",
    "parameters_14 = {\"max_depth\": [1,2,3,4,5,6,7,8,9,10], \"min_samples_split\": list(range(2, 11)),\n",
    "              \"min_samples_leaf\": list(range(1, 11))}\n",
    "model_15 = GradientBoostingClassifier()\n",
    "parameters_15 = {'max_depth': [1,2,3,4,5], 'min_samples_leaf': [10, 20, 50, 100, 200], 'max_features': [0.1, 0.2, 0.3, 0.4, 0.5]}\n",
    "\n",
    "models = [model_11, model_12, model_13, model_15]\n",
    "parameterses = [parameters_11, parameters_12, parameters_13, parameters_15]\n",
    "results = {}\n",
    "model_names = []\n",
    "train_accuracies = []\n",
    "test_accuracies = []\n",
    "\n",
    "i = 0\n",
    "for model in models:\n",
    "    results[model.__class__.__name__] = grid_search(model, parameterses[i], x_train, y_train, x_dev, y_dev)\n",
    "    model_names.append(model.__class__.__name__)\n",
    "    train_accuracies.append(results[model.__class__.__name__]['acc_train'])\n",
    "    test_accuracies.append(results[model.__class__.__name__]['acc_test'])\n",
    "    i += 1\n",
    "\n",
    "\n",
    "results[model_14.__class__.__name__] = grid_search(model_14, parameters_14, x_train, y_train, x_dev, y_dev)\n",
    "model_names.append(model.__class__.__name__)\n",
    "train_accuracies.append(results[model.__class__.__name__]['acc_train'])\n",
    "test_accuracies.append(results[model.__class__.__name__]['acc_test'])    \n",
    "\n",
    "    \n",
    "    \n",
    "# Plot and compare the accuracy of different models\n",
    "\n",
    "plt.figure(figsize=[12,8])\n",
    "barWidth = 0.4\n",
    "plt.xlim(0.7, 1)\n",
    "r1 = np.arange(len(models)+1)\n",
    "r2 = [x + barWidth for x in r1]\n",
    "bar_1 = plt.barh(r1, train_accuracies, height=barWidth, edgecolor='white', label='train')\n",
    "bar_2 = plt.barh(r2, test_accuracies,  height=barWidth, edgecolor='white', label='test')\n",
    "plt.yticks([r + barWidth for r in range(len(models))], model_names, fontsize = 15)\n",
    "plt.legend(fontsize= 15)\n",
    "\n",
    "\n",
    "\n",
    "plt.show()\n",
    "\n"
   ]
  },
  {
   "cell_type": "code",
   "execution_count": 130,
   "metadata": {},
   "outputs": [
    {
     "name": "stdout",
     "output_type": "stream",
     "text": [
      "{'train_time': 23.08125638961792, 'pred_time': 0.02991938591003418, 'best_model': AdaBoostClassifier(algorithm='SAMME.R', base_estimator=None,\n",
      "          learning_rate=0.05, n_estimators=100, random_state=None), 'acc_train': 0.8353293413173652, 'acc_test': 0.8116591928251121}\n"
     ]
    }
   ],
   "source": [
    "print(results['AdaBoostClassifier'])"
   ]
  },
  {
   "cell_type": "markdown",
   "metadata": {},
   "source": [
    "#### According the above discussion:\n",
    "the best result is achieved through the AdaBoostClassifier\n",
    "\n",
    "|     Metric     | Accuracy_train | Accuracy_test |\n",
    "| :------------: | :---------------: | :-------------: | \n",
    "| Accuracy Score |   0.83532                |      0.81165           |\n",
    "\n",
    "\n",
    "#### Next we will explore the feature relevance "
   ]
  },
  {
   "cell_type": "code",
   "execution_count": 131,
   "metadata": {},
   "outputs": [
    {
     "data": {
      "image/png": "[encoded data removed]",
      "text/plain": [
       "<Figure size 864x576 with 1 Axes>"
      ]
     },
     "metadata": {},
     "output_type": "display_data"
    }
   ],
   "source": [
    "model = AdaBoostClassifier()\n",
    "model.fit(x_train, y_train)\n",
    "importances = model.feature_importances_\n",
    "\n",
    "\n",
    "indices = np.argsort(importances)[::-1]\n",
    "columns = x_train.columns.values[indices[:10]]\n",
    "values = importances[indices][:10]\n",
    "\n",
    "plt.figure(figsize=[12,8])\n",
    "barWidth = 0.4\n",
    "plt.xlim(0, 1)\n",
    "r1 = np.arange(10)\n",
    "r2 = [x - barWidth for x in r1]\n",
    "bar_1 = plt.barh(r1, values, height=barWidth, edgecolor='white', label=\"Feature Weight\")\n",
    "bar_2 = plt.barh(r2, np.cumsum(values),  height=barWidth, edgecolor='white', label=\"Cumulative Feature Weight\")\n",
    "plt.title(\"Normalized Weights for First Ten Most Predictive Features\", fontsize = 16)\n",
    "plt.yticks([r + barWidth for r in range(10)], columns, fontsize = 15)\n",
    "plt.legend(fontsize= 15)\n",
    "plt.show()"
   ]
  },
  {
   "cell_type": "markdown",
   "metadata": {},
   "source": [
    "According to the above result, we can see that fare, age, and family size are three most predictive features for the final survival chance. "
   ]
  }
 ],
 "metadata": {
  "kernelspec": {
   "display_name": "Python 3",
   "language": "python",
   "name": "python3"
  },
  "language_info": {
   "codemirror_mode": {
    "name": "ipython",
    "version": 3
   },
   "file_extension": ".py",
   "mimetype": "text/x-python",
   "name": "python",
   "nbconvert_exporter": "python",
   "pygments_lexer": "ipython3",
   "version": "3.6.6"
  }
 },
 "nbformat": 4,
 "nbformat_minor": 1
}
